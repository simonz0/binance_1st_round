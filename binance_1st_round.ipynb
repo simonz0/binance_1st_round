{
 "cells": [
  {
   "cell_type": "markdown",
   "id": "1376984b",
   "metadata": {},
   "source": [
    "<h1 align=\"center\">Give Me Some Credit</h1>"
   ]
  },
  {
   "cell_type": "code",
   "execution_count": 1,
   "id": "fd821ebb",
   "metadata": {},
   "outputs": [],
   "source": [
    "# libraries used in this project\n",
    "import pandas as pd\n",
    "import numpy as np\n",
    "import statsmodels.api as sm\n",
    "import statsmodels.formula.api as smf\n",
    "from scipy import stats\n",
    "import seaborn as sns\n",
    "import matplotlib.pyplot as plt"
   ]
  },
  {
   "cell_type": "markdown",
   "id": "0a4e2149",
   "metadata": {},
   "source": [
    "## Data Import and Preparation"
   ]
  },
  {
   "cell_type": "code",
   "execution_count": 2,
   "id": "13183530",
   "metadata": {},
   "outputs": [],
   "source": [
    "# import train data set\n",
    "data = pd.read_csv(\"cs-training.csv\")"
   ]
  },
  {
   "cell_type": "code",
   "execution_count": 3,
   "id": "2222219e",
   "metadata": {},
   "outputs": [
    {
     "data": {
      "text/html": [
       "<div>\n",
       "<style scoped>\n",
       "    .dataframe tbody tr th:only-of-type {\n",
       "        vertical-align: middle;\n",
       "    }\n",
       "\n",
       "    .dataframe tbody tr th {\n",
       "        vertical-align: top;\n",
       "    }\n",
       "\n",
       "    .dataframe thead th {\n",
       "        text-align: right;\n",
       "    }\n",
       "</style>\n",
       "<table border=\"1\" class=\"dataframe\">\n",
       "  <thead>\n",
       "    <tr style=\"text-align: right;\">\n",
       "      <th></th>\n",
       "      <th>Unnamed: 0</th>\n",
       "      <th>SeriousDlqin2yrs</th>\n",
       "      <th>RevolvingUtilizationOfUnsecuredLines</th>\n",
       "      <th>age</th>\n",
       "      <th>NumberOfTime30-59DaysPastDueNotWorse</th>\n",
       "      <th>DebtRatio</th>\n",
       "      <th>MonthlyIncome</th>\n",
       "      <th>NumberOfOpenCreditLinesAndLoans</th>\n",
       "      <th>NumberOfTimes90DaysLate</th>\n",
       "      <th>NumberRealEstateLoansOrLines</th>\n",
       "      <th>NumberOfTime60-89DaysPastDueNotWorse</th>\n",
       "      <th>NumberOfDependents</th>\n",
       "    </tr>\n",
       "  </thead>\n",
       "  <tbody>\n",
       "    <tr>\n",
       "      <th>0</th>\n",
       "      <td>1</td>\n",
       "      <td>1</td>\n",
       "      <td>0.766127</td>\n",
       "      <td>45</td>\n",
       "      <td>2</td>\n",
       "      <td>0.802982</td>\n",
       "      <td>9120.0</td>\n",
       "      <td>13</td>\n",
       "      <td>0</td>\n",
       "      <td>6</td>\n",
       "      <td>0</td>\n",
       "      <td>2.0</td>\n",
       "    </tr>\n",
       "    <tr>\n",
       "      <th>1</th>\n",
       "      <td>2</td>\n",
       "      <td>0</td>\n",
       "      <td>0.957151</td>\n",
       "      <td>40</td>\n",
       "      <td>0</td>\n",
       "      <td>0.121876</td>\n",
       "      <td>2600.0</td>\n",
       "      <td>4</td>\n",
       "      <td>0</td>\n",
       "      <td>0</td>\n",
       "      <td>0</td>\n",
       "      <td>1.0</td>\n",
       "    </tr>\n",
       "    <tr>\n",
       "      <th>2</th>\n",
       "      <td>3</td>\n",
       "      <td>0</td>\n",
       "      <td>0.658180</td>\n",
       "      <td>38</td>\n",
       "      <td>1</td>\n",
       "      <td>0.085113</td>\n",
       "      <td>3042.0</td>\n",
       "      <td>2</td>\n",
       "      <td>1</td>\n",
       "      <td>0</td>\n",
       "      <td>0</td>\n",
       "      <td>0.0</td>\n",
       "    </tr>\n",
       "    <tr>\n",
       "      <th>3</th>\n",
       "      <td>4</td>\n",
       "      <td>0</td>\n",
       "      <td>0.233810</td>\n",
       "      <td>30</td>\n",
       "      <td>0</td>\n",
       "      <td>0.036050</td>\n",
       "      <td>3300.0</td>\n",
       "      <td>5</td>\n",
       "      <td>0</td>\n",
       "      <td>0</td>\n",
       "      <td>0</td>\n",
       "      <td>0.0</td>\n",
       "    </tr>\n",
       "    <tr>\n",
       "      <th>4</th>\n",
       "      <td>5</td>\n",
       "      <td>0</td>\n",
       "      <td>0.907239</td>\n",
       "      <td>49</td>\n",
       "      <td>1</td>\n",
       "      <td>0.024926</td>\n",
       "      <td>63588.0</td>\n",
       "      <td>7</td>\n",
       "      <td>0</td>\n",
       "      <td>1</td>\n",
       "      <td>0</td>\n",
       "      <td>0.0</td>\n",
       "    </tr>\n",
       "  </tbody>\n",
       "</table>\n",
       "</div>"
      ],
      "text/plain": [
       "   Unnamed: 0  SeriousDlqin2yrs  RevolvingUtilizationOfUnsecuredLines  age  \\\n",
       "0           1                 1                              0.766127   45   \n",
       "1           2                 0                              0.957151   40   \n",
       "2           3                 0                              0.658180   38   \n",
       "3           4                 0                              0.233810   30   \n",
       "4           5                 0                              0.907239   49   \n",
       "\n",
       "   NumberOfTime30-59DaysPastDueNotWorse  DebtRatio  MonthlyIncome  \\\n",
       "0                                     2   0.802982         9120.0   \n",
       "1                                     0   0.121876         2600.0   \n",
       "2                                     1   0.085113         3042.0   \n",
       "3                                     0   0.036050         3300.0   \n",
       "4                                     1   0.024926        63588.0   \n",
       "\n",
       "   NumberOfOpenCreditLinesAndLoans  NumberOfTimes90DaysLate  \\\n",
       "0                               13                        0   \n",
       "1                                4                        0   \n",
       "2                                2                        1   \n",
       "3                                5                        0   \n",
       "4                                7                        0   \n",
       "\n",
       "   NumberRealEstateLoansOrLines  NumberOfTime60-89DaysPastDueNotWorse  \\\n",
       "0                             6                                     0   \n",
       "1                             0                                     0   \n",
       "2                             0                                     0   \n",
       "3                             0                                     0   \n",
       "4                             1                                     0   \n",
       "\n",
       "   NumberOfDependents  \n",
       "0                 2.0  \n",
       "1                 1.0  \n",
       "2                 0.0  \n",
       "3                 0.0  \n",
       "4                 0.0  "
      ]
     },
     "execution_count": 3,
     "metadata": {},
     "output_type": "execute_result"
    }
   ],
   "source": [
    "data.head()"
   ]
  },
  {
   "cell_type": "code",
   "execution_count": 4,
   "id": "0e0cb051",
   "metadata": {},
   "outputs": [],
   "source": [
    "# data clean process\n",
    "\n",
    "# step #1: clean entries with na\n",
    "data = data.dropna()"
   ]
  },
  {
   "cell_type": "code",
   "execution_count": 5,
   "id": "a987c28b",
   "metadata": {},
   "outputs": [
    {
     "name": "stdout",
     "output_type": "stream",
     "text": [
      "197.25402986347004\n",
      "3.5843596535794626\n",
      "143.90544224221773\n",
      "208.70074737870993\n",
      "9.519292104231905\n"
     ]
    }
   ],
   "source": [
    "# Step #2 Remove outliers:\n",
    "# analysis\n",
    "z = np.abs(stats.zscore(data['RevolvingUtilizationOfUnsecuredLines']))\n",
    "print(max(z))\n",
    "\n",
    "z = np.abs(stats.zscore(data['age']))\n",
    "print(max(z))\n",
    "\n",
    "z = np.abs(stats.zscore(data['DebtRatio']))\n",
    "print(max(z))\n",
    "\n",
    "z = np.abs(stats.zscore(data['MonthlyIncome']))\n",
    "print(max(z))\n",
    "\n",
    "z = np.abs(stats.zscore(data['NumberOfOpenCreditLinesAndLoans']))\n",
    "print(max(z))"
   ]
  },
  {
   "cell_type": "code",
   "execution_count": 6,
   "id": "df57fcdf",
   "metadata": {},
   "outputs": [],
   "source": [
    "# metodology: remove entries with z-score larger than 3\n",
    "def remove_outlier(data, variate):\n",
    "    data['z_score_' + variate] = np.abs(stats.zscore(data[variate]))\n",
    "    data = data[(data['z_score_' + variate] < 3)]\n",
    "    data.drop(['z_score_' + variate], axis = 1, inplace = True)\n",
    "    return data"
   ]
  },
  {
   "cell_type": "code",
   "execution_count": 7,
   "id": "813bdb79",
   "metadata": {},
   "outputs": [
    {
     "name": "stderr",
     "output_type": "stream",
     "text": [
      "/Library/Frameworks/Python.framework/Versions/3.8/lib/python3.8/site-packages/pandas/core/frame.py:4901: SettingWithCopyWarning: \n",
      "A value is trying to be set on a copy of a slice from a DataFrame\n",
      "\n",
      "See the caveats in the documentation: https://pandas.pydata.org/pandas-docs/stable/user_guide/indexing.html#returning-a-view-versus-a-copy\n",
      "  return super().drop(\n"
     ]
    }
   ],
   "source": [
    "data = remove_outlier(data, 'RevolvingUtilizationOfUnsecuredLines')\n",
    "data = remove_outlier(data, 'age')\n",
    "data = remove_outlier(data, 'DebtRatio')\n",
    "data = remove_outlier(data, 'MonthlyIncome')\n",
    "data = remove_outlier(data, 'NumberOfOpenCreditLinesAndLoans')"
   ]
  },
  {
   "cell_type": "code",
   "execution_count": 8,
   "id": "695e4ade",
   "metadata": {},
   "outputs": [
    {
     "data": {
      "text/html": [
       "<div>\n",
       "<style scoped>\n",
       "    .dataframe tbody tr th:only-of-type {\n",
       "        vertical-align: middle;\n",
       "    }\n",
       "\n",
       "    .dataframe tbody tr th {\n",
       "        vertical-align: top;\n",
       "    }\n",
       "\n",
       "    .dataframe thead th {\n",
       "        text-align: right;\n",
       "    }\n",
       "</style>\n",
       "<table border=\"1\" class=\"dataframe\">\n",
       "  <thead>\n",
       "    <tr style=\"text-align: right;\">\n",
       "      <th></th>\n",
       "      <th>Unnamed: 0</th>\n",
       "      <th>SeriousDlqin2yrs</th>\n",
       "      <th>RevolvingUtilizationOfUnsecuredLines</th>\n",
       "      <th>age</th>\n",
       "      <th>NumberOfTime30-59DaysPastDueNotWorse</th>\n",
       "      <th>DebtRatio</th>\n",
       "      <th>MonthlyIncome</th>\n",
       "      <th>NumberOfOpenCreditLinesAndLoans</th>\n",
       "      <th>NumberOfTimes90DaysLate</th>\n",
       "      <th>NumberRealEstateLoansOrLines</th>\n",
       "      <th>NumberOfTime60-89DaysPastDueNotWorse</th>\n",
       "      <th>NumberOfDependents</th>\n",
       "    </tr>\n",
       "  </thead>\n",
       "  <tbody>\n",
       "    <tr>\n",
       "      <th>count</th>\n",
       "      <td>117677.000000</td>\n",
       "      <td>117677.000000</td>\n",
       "      <td>117677.000000</td>\n",
       "      <td>117677.000000</td>\n",
       "      <td>117677.000000</td>\n",
       "      <td>117677.000000</td>\n",
       "      <td>117677.000000</td>\n",
       "      <td>117677.000000</td>\n",
       "      <td>117677.000000</td>\n",
       "      <td>117677.000000</td>\n",
       "      <td>117677.000000</td>\n",
       "      <td>117677.000000</td>\n",
       "    </tr>\n",
       "    <tr>\n",
       "      <th>mean</th>\n",
       "      <td>75020.677448</td>\n",
       "      <td>0.069682</td>\n",
       "      <td>0.451886</td>\n",
       "      <td>51.205792</td>\n",
       "      <td>0.383873</td>\n",
       "      <td>5.043923</td>\n",
       "      <td>6372.143469</td>\n",
       "      <td>8.528166</td>\n",
       "      <td>0.215709</td>\n",
       "      <td>1.032666</td>\n",
       "      <td>0.190904</td>\n",
       "      <td>0.850158</td>\n",
       "    </tr>\n",
       "    <tr>\n",
       "      <th>std</th>\n",
       "      <td>43271.133471</td>\n",
       "      <td>0.254612</td>\n",
       "      <td>8.101493</td>\n",
       "      <td>14.442396</td>\n",
       "      <td>3.535599</td>\n",
       "      <td>61.273749</td>\n",
       "      <td>4557.509855</td>\n",
       "      <td>4.710483</td>\n",
       "      <td>3.502742</td>\n",
       "      <td>1.080398</td>\n",
       "      <td>3.485201</td>\n",
       "      <td>1.146864</td>\n",
       "    </tr>\n",
       "    <tr>\n",
       "      <th>min</th>\n",
       "      <td>1.000000</td>\n",
       "      <td>0.000000</td>\n",
       "      <td>0.000000</td>\n",
       "      <td>21.000000</td>\n",
       "      <td>0.000000</td>\n",
       "      <td>0.000000</td>\n",
       "      <td>0.000000</td>\n",
       "      <td>0.000000</td>\n",
       "      <td>0.000000</td>\n",
       "      <td>0.000000</td>\n",
       "      <td>0.000000</td>\n",
       "      <td>0.000000</td>\n",
       "    </tr>\n",
       "    <tr>\n",
       "      <th>25%</th>\n",
       "      <td>37700.000000</td>\n",
       "      <td>0.000000</td>\n",
       "      <td>0.034949</td>\n",
       "      <td>40.000000</td>\n",
       "      <td>0.000000</td>\n",
       "      <td>0.141982</td>\n",
       "      <td>3416.000000</td>\n",
       "      <td>5.000000</td>\n",
       "      <td>0.000000</td>\n",
       "      <td>0.000000</td>\n",
       "      <td>0.000000</td>\n",
       "      <td>0.000000</td>\n",
       "    </tr>\n",
       "    <tr>\n",
       "      <th>50%</th>\n",
       "      <td>74974.000000</td>\n",
       "      <td>0.000000</td>\n",
       "      <td>0.177399</td>\n",
       "      <td>51.000000</td>\n",
       "      <td>0.000000</td>\n",
       "      <td>0.293122</td>\n",
       "      <td>5400.000000</td>\n",
       "      <td>8.000000</td>\n",
       "      <td>0.000000</td>\n",
       "      <td>1.000000</td>\n",
       "      <td>0.000000</td>\n",
       "      <td>0.000000</td>\n",
       "    </tr>\n",
       "    <tr>\n",
       "      <th>75%</th>\n",
       "      <td>112449.000000</td>\n",
       "      <td>0.000000</td>\n",
       "      <td>0.581937</td>\n",
       "      <td>61.000000</td>\n",
       "      <td>0.000000</td>\n",
       "      <td>0.475656</td>\n",
       "      <td>8200.000000</td>\n",
       "      <td>11.000000</td>\n",
       "      <td>0.000000</td>\n",
       "      <td>2.000000</td>\n",
       "      <td>0.000000</td>\n",
       "      <td>2.000000</td>\n",
       "    </tr>\n",
       "    <tr>\n",
       "      <th>max</th>\n",
       "      <td>150000.000000</td>\n",
       "      <td>1.000000</td>\n",
       "      <td>771.000000</td>\n",
       "      <td>94.000000</td>\n",
       "      <td>98.000000</td>\n",
       "      <td>1299.000000</td>\n",
       "      <td>50000.000000</td>\n",
       "      <td>24.000000</td>\n",
       "      <td>98.000000</td>\n",
       "      <td>20.000000</td>\n",
       "      <td>98.000000</td>\n",
       "      <td>20.000000</td>\n",
       "    </tr>\n",
       "  </tbody>\n",
       "</table>\n",
       "</div>"
      ],
      "text/plain": [
       "          Unnamed: 0  SeriousDlqin2yrs  RevolvingUtilizationOfUnsecuredLines  \\\n",
       "count  117677.000000     117677.000000                         117677.000000   \n",
       "mean    75020.677448          0.069682                              0.451886   \n",
       "std     43271.133471          0.254612                              8.101493   \n",
       "min         1.000000          0.000000                              0.000000   \n",
       "25%     37700.000000          0.000000                              0.034949   \n",
       "50%     74974.000000          0.000000                              0.177399   \n",
       "75%    112449.000000          0.000000                              0.581937   \n",
       "max    150000.000000          1.000000                            771.000000   \n",
       "\n",
       "                 age  NumberOfTime30-59DaysPastDueNotWorse      DebtRatio  \\\n",
       "count  117677.000000                         117677.000000  117677.000000   \n",
       "mean       51.205792                              0.383873       5.043923   \n",
       "std        14.442396                              3.535599      61.273749   \n",
       "min        21.000000                              0.000000       0.000000   \n",
       "25%        40.000000                              0.000000       0.141982   \n",
       "50%        51.000000                              0.000000       0.293122   \n",
       "75%        61.000000                              0.000000       0.475656   \n",
       "max        94.000000                             98.000000    1299.000000   \n",
       "\n",
       "       MonthlyIncome  NumberOfOpenCreditLinesAndLoans  \\\n",
       "count  117677.000000                    117677.000000   \n",
       "mean     6372.143469                         8.528166   \n",
       "std      4557.509855                         4.710483   \n",
       "min         0.000000                         0.000000   \n",
       "25%      3416.000000                         5.000000   \n",
       "50%      5400.000000                         8.000000   \n",
       "75%      8200.000000                        11.000000   \n",
       "max     50000.000000                        24.000000   \n",
       "\n",
       "       NumberOfTimes90DaysLate  NumberRealEstateLoansOrLines  \\\n",
       "count            117677.000000                 117677.000000   \n",
       "mean                  0.215709                      1.032666   \n",
       "std                   3.502742                      1.080398   \n",
       "min                   0.000000                      0.000000   \n",
       "25%                   0.000000                      0.000000   \n",
       "50%                   0.000000                      1.000000   \n",
       "75%                   0.000000                      2.000000   \n",
       "max                  98.000000                     20.000000   \n",
       "\n",
       "       NumberOfTime60-89DaysPastDueNotWorse  NumberOfDependents  \n",
       "count                         117677.000000       117677.000000  \n",
       "mean                               0.190904            0.850158  \n",
       "std                                3.485201            1.146864  \n",
       "min                                0.000000            0.000000  \n",
       "25%                                0.000000            0.000000  \n",
       "50%                                0.000000            0.000000  \n",
       "75%                                0.000000            2.000000  \n",
       "max                               98.000000           20.000000  "
      ]
     },
     "execution_count": 8,
     "metadata": {},
     "output_type": "execute_result"
    }
   ],
   "source": [
    "data.describe()"
   ]
  },
  {
   "cell_type": "markdown",
   "id": "0324ae1b",
   "metadata": {},
   "source": [
    "## Analyze Model"
   ]
  },
  {
   "cell_type": "code",
   "execution_count": 9,
   "id": "1c7135ef",
   "metadata": {},
   "outputs": [],
   "source": [
    "# combine NumberOfTime30-59DaysPastDueNotWorse, NumberOfTime60-89DaysPastDueNotWorse and NumberOfTimes90DaysLate together\n",
    "num_of_past_due_times = data[\"NumberOfTime30-59DaysPastDueNotWorse\"] + data[\"NumberOfTime60-89DaysPastDueNotWorse\"] + data[\"NumberOfTimes90DaysLate\"]\n",
    "num_of_past_due_times.head()\n",
    "data[\"total_num_of_times_pass_due\"] = num_of_past_due_times"
   ]
  },
  {
   "cell_type": "code",
   "execution_count": 10,
   "id": "9248046e",
   "metadata": {},
   "outputs": [
    {
     "data": {
      "text/html": [
       "<div>\n",
       "<style scoped>\n",
       "    .dataframe tbody tr th:only-of-type {\n",
       "        vertical-align: middle;\n",
       "    }\n",
       "\n",
       "    .dataframe tbody tr th {\n",
       "        vertical-align: top;\n",
       "    }\n",
       "\n",
       "    .dataframe thead th {\n",
       "        text-align: right;\n",
       "    }\n",
       "</style>\n",
       "<table border=\"1\" class=\"dataframe\">\n",
       "  <thead>\n",
       "    <tr style=\"text-align: right;\">\n",
       "      <th></th>\n",
       "      <th>Unnamed: 0</th>\n",
       "      <th>SeriousDlqin2yrs</th>\n",
       "      <th>RevolvingUtilizationOfUnsecuredLines</th>\n",
       "      <th>age</th>\n",
       "      <th>DebtRatio</th>\n",
       "      <th>MonthlyIncome</th>\n",
       "      <th>NumberOfOpenCreditLinesAndLoans</th>\n",
       "      <th>NumberRealEstateLoansOrLines</th>\n",
       "      <th>NumberOfDependents</th>\n",
       "      <th>total_num_of_times_pass_due</th>\n",
       "    </tr>\n",
       "  </thead>\n",
       "  <tbody>\n",
       "    <tr>\n",
       "      <th>0</th>\n",
       "      <td>1</td>\n",
       "      <td>1</td>\n",
       "      <td>0.766127</td>\n",
       "      <td>45</td>\n",
       "      <td>0.802982</td>\n",
       "      <td>9120.0</td>\n",
       "      <td>13</td>\n",
       "      <td>6</td>\n",
       "      <td>2.0</td>\n",
       "      <td>2</td>\n",
       "    </tr>\n",
       "    <tr>\n",
       "      <th>1</th>\n",
       "      <td>2</td>\n",
       "      <td>0</td>\n",
       "      <td>0.957151</td>\n",
       "      <td>40</td>\n",
       "      <td>0.121876</td>\n",
       "      <td>2600.0</td>\n",
       "      <td>4</td>\n",
       "      <td>0</td>\n",
       "      <td>1.0</td>\n",
       "      <td>0</td>\n",
       "    </tr>\n",
       "    <tr>\n",
       "      <th>2</th>\n",
       "      <td>3</td>\n",
       "      <td>0</td>\n",
       "      <td>0.658180</td>\n",
       "      <td>38</td>\n",
       "      <td>0.085113</td>\n",
       "      <td>3042.0</td>\n",
       "      <td>2</td>\n",
       "      <td>0</td>\n",
       "      <td>0.0</td>\n",
       "      <td>2</td>\n",
       "    </tr>\n",
       "    <tr>\n",
       "      <th>3</th>\n",
       "      <td>4</td>\n",
       "      <td>0</td>\n",
       "      <td>0.233810</td>\n",
       "      <td>30</td>\n",
       "      <td>0.036050</td>\n",
       "      <td>3300.0</td>\n",
       "      <td>5</td>\n",
       "      <td>0</td>\n",
       "      <td>0.0</td>\n",
       "      <td>0</td>\n",
       "    </tr>\n",
       "    <tr>\n",
       "      <th>5</th>\n",
       "      <td>6</td>\n",
       "      <td>0</td>\n",
       "      <td>0.213179</td>\n",
       "      <td>74</td>\n",
       "      <td>0.375607</td>\n",
       "      <td>3500.0</td>\n",
       "      <td>3</td>\n",
       "      <td>1</td>\n",
       "      <td>1.0</td>\n",
       "      <td>0</td>\n",
       "    </tr>\n",
       "  </tbody>\n",
       "</table>\n",
       "</div>"
      ],
      "text/plain": [
       "   Unnamed: 0  SeriousDlqin2yrs  RevolvingUtilizationOfUnsecuredLines  age  \\\n",
       "0           1                 1                              0.766127   45   \n",
       "1           2                 0                              0.957151   40   \n",
       "2           3                 0                              0.658180   38   \n",
       "3           4                 0                              0.233810   30   \n",
       "5           6                 0                              0.213179   74   \n",
       "\n",
       "   DebtRatio  MonthlyIncome  NumberOfOpenCreditLinesAndLoans  \\\n",
       "0   0.802982         9120.0                               13   \n",
       "1   0.121876         2600.0                                4   \n",
       "2   0.085113         3042.0                                2   \n",
       "3   0.036050         3300.0                                5   \n",
       "5   0.375607         3500.0                                3   \n",
       "\n",
       "   NumberRealEstateLoansOrLines  NumberOfDependents  \\\n",
       "0                             6                 2.0   \n",
       "1                             0                 1.0   \n",
       "2                             0                 0.0   \n",
       "3                             0                 0.0   \n",
       "5                             1                 1.0   \n",
       "\n",
       "   total_num_of_times_pass_due  \n",
       "0                            2  \n",
       "1                            0  \n",
       "2                            2  \n",
       "3                            0  \n",
       "5                            0  "
      ]
     },
     "execution_count": 10,
     "metadata": {},
     "output_type": "execute_result"
    }
   ],
   "source": [
    "new_data = data.drop([\"NumberOfTime30-59DaysPastDueNotWorse\", \"NumberOfTime60-89DaysPastDueNotWorse\", \"NumberOfTimes90DaysLate\"], axis = 1)\n",
    "new_data.head()"
   ]
  },
  {
   "cell_type": "code",
   "execution_count": 11,
   "id": "59e70c18",
   "metadata": {},
   "outputs": [
    {
     "data": {
      "text/plain": [
       "total_num_of_times_pass_due             0.110655\n",
       "RevolvingUtilizationOfUnsecuredLines    0.010082\n",
       "age                                    -0.103008\n",
       "DebtRatio                              -0.011295\n",
       "MonthlyIncome                          -0.056130\n",
       "NumberOfOpenCreditLinesAndLoans        -0.031488\n",
       "NumberRealEstateLoansOrLines           -0.007595\n",
       "NumberOfDependents                      0.047457\n",
       "Name: SeriousDlqin2yrs, dtype: float64"
      ]
     },
     "execution_count": 11,
     "metadata": {},
     "output_type": "execute_result"
    }
   ],
   "source": [
    "data.corr()[\"SeriousDlqin2yrs\"][[\"total_num_of_times_pass_due\",\"RevolvingUtilizationOfUnsecuredLines\", \"age\", \"DebtRatio\", \"MonthlyIncome\", \"NumberOfOpenCreditLinesAndLoans\", \"NumberRealEstateLoansOrLines\",\"NumberOfDependents\"]]"
   ]
  },
  {
   "cell_type": "markdown",
   "id": "a9dd620e",
   "metadata": {},
   "source": [
    "Please note that the correlationship between these varaite and SeriousDlqin2yrs is not that useful. Please see\n",
    "further interpretation for each individual variate below:"
   ]
  },
  {
   "cell_type": "markdown",
   "id": "38157c50",
   "metadata": {},
   "source": [
    "### Person experienced 90 days past due delinquency or worse "
   ]
  },
  {
   "cell_type": "code",
   "execution_count": 12,
   "id": "d9ba81d7",
   "metadata": {},
   "outputs": [
    {
     "data": {
      "text/plain": [
       "<AxesSubplot:xlabel='SeriousDlqin2yrs', ylabel='count'>"
      ]
     },
     "execution_count": 12,
     "metadata": {},
     "output_type": "execute_result"
    },
    {
     "data": {
      "image/png": "[encoded data removed]",
      "text/plain": [
       "<Figure size 432x288 with 1 Axes>"
      ]
     },
     "metadata": {
      "needs_background": "light"
     },
     "output_type": "display_data"
    }
   ],
   "source": [
    "sns.countplot(x=\"SeriousDlqin2yrs\", data=new_data)"
   ]
  },
  {
   "cell_type": "code",
   "execution_count": 13,
   "id": "4e2a3d6f",
   "metadata": {},
   "outputs": [
    {
     "data": {
      "text/plain": [
       "0.06968226586333778"
      ]
     },
     "execution_count": 13,
     "metadata": {},
     "output_type": "execute_result"
    }
   ],
   "source": [
    "new_data[\"SeriousDlqin2yrs\"].sum() / len(new_data)"
   ]
  },
  {
   "cell_type": "markdown",
   "id": "adbb4022",
   "metadata": {},
   "source": [
    "**Interpretation**:\n",
    "\n",
    "According to the dataset, about 6.9682% of customer experienced 90 days past due delinquency or worse."
   ]
  },
  {
   "cell_type": "markdown",
   "id": "5d1342ae",
   "metadata": {},
   "source": [
    "### Revolving Utilization Of Unsecured Lines"
   ]
  },
  {
   "cell_type": "code",
   "execution_count": 14,
   "id": "03b508e5",
   "metadata": {},
   "outputs": [
    {
     "data": {
      "text/plain": [
       "[<matplotlib.lines.Line2D at 0x7fc42f720340>]"
      ]
     },
     "execution_count": 14,
     "metadata": {},
     "output_type": "execute_result"
    },
    {
     "data": {
      "image/png": "[encoded data removed]",
      "text/plain": [
       "<Figure size 432x288 with 1 Axes>"
      ]
     },
     "metadata": {
      "needs_background": "light"
     },
     "output_type": "display_data"
    }
   ],
   "source": [
    "default_prop = []\n",
    "ruul = []\n",
    "for i in range(int(new_data[\"RevolvingUtilizationOfUnsecuredLines\"].max())):\n",
    "    temp_ = new_data.loc[new_data[\"RevolvingUtilizationOfUnsecuredLines\"] >= i]\n",
    "    ruul.append(i)\n",
    "    default_prop.append(temp_[\"SeriousDlqin2yrs\"].mean())\n",
    "plt.plot(ruul, default_prop, 'o')"
   ]
  },
  {
   "cell_type": "code",
   "execution_count": 15,
   "id": "406bdb29",
   "metadata": {},
   "outputs": [
    {
     "data": {
      "text/plain": [
       "array([[ 1.       , -0.6723741],\n",
       "       [-0.6723741,  1.       ]])"
      ]
     },
     "execution_count": 15,
     "metadata": {},
     "output_type": "execute_result"
    }
   ],
   "source": [
    "np.corrcoef(ruul,default_prop)"
   ]
  },
  {
   "cell_type": "markdown",
   "id": "d8664988",
   "metadata": {},
   "source": [
    "**Interpretation**\n",
    "\n",
    "Along with the increasing of minimium Revolving Utilization Of Unsecured Lines can lead to decreasing probability of default.\n",
    "\n",
    "It does *NOT* follow the intuition.\n"
   ]
  },
  {
   "cell_type": "markdown",
   "id": "3643d5b2",
   "metadata": {},
   "source": [
    "### Age"
   ]
  },
  {
   "cell_type": "code",
   "execution_count": 16,
   "id": "0af869ba",
   "metadata": {},
   "outputs": [
    {
     "data": {
      "text/plain": [
       "[<matplotlib.lines.Line2D at 0x7fc42fc0dd90>]"
      ]
     },
     "execution_count": 16,
     "metadata": {},
     "output_type": "execute_result"
    },
    {
     "data": {
      "image/png": "[encoded data removed]",
      "text/plain": [
       "<Figure size 432x288 with 1 Axes>"
      ]
     },
     "metadata": {
      "needs_background": "light"
     },
     "output_type": "display_data"
    }
   ],
   "source": [
    "default_prop = []\n",
    "age = []\n",
    "for i in range(int(new_data[\"age\"].max())):\n",
    "    temp_ = new_data.loc[new_data[\"age\"] == i]\n",
    "    if(len(temp_) != 0):\n",
    "        age.append(i)\n",
    "        default_prop.append(temp_[\"SeriousDlqin2yrs\"].mean())\n",
    "plt.plot(age, default_prop, 'o')"
   ]
  },
  {
   "cell_type": "code",
   "execution_count": 17,
   "id": "a9117c4a",
   "metadata": {},
   "outputs": [
    {
     "data": {
      "text/plain": [
       "array([[ 1.        , -0.92168188],\n",
       "       [-0.92168188,  1.        ]])"
      ]
     },
     "execution_count": 17,
     "metadata": {},
     "output_type": "execute_result"
    }
   ],
   "source": [
    "np.corrcoef(age,default_prop)"
   ]
  },
  {
   "cell_type": "markdown",
   "id": "72ec3aa5",
   "metadata": {},
   "source": [
    "**Interpretation**\n",
    "\n",
    "As the age increases, the probability of default decrease."
   ]
  },
  {
   "cell_type": "markdown",
   "id": "df659357",
   "metadata": {},
   "source": [
    "### Debt Ratio"
   ]
  },
  {
   "cell_type": "code",
   "execution_count": 18,
   "id": "68a4e7ac",
   "metadata": {},
   "outputs": [
    {
     "data": {
      "text/plain": [
       "0.007299642241049653"
      ]
     },
     "execution_count": 18,
     "metadata": {},
     "output_type": "execute_result"
    }
   ],
   "source": [
    "over_100 = new_data[(new_data[\"DebtRatio\"] > 100)]\n",
    "len(over_100) / len(new_data)"
   ]
  },
  {
   "cell_type": "markdown",
   "id": "d6905211",
   "metadata": {},
   "source": [
    "**Interpretation**:\n",
    "\n",
    "Note that about 0.72996% of users cannot pay their debt with their monthly income."
   ]
  },
  {
   "cell_type": "markdown",
   "id": "6b049c9f",
   "metadata": {},
   "source": [
    "### Total Number of Times Pass Due"
   ]
  },
  {
   "cell_type": "code",
   "execution_count": 19,
   "id": "9fa14e8f",
   "metadata": {},
   "outputs": [
    {
     "data": {
      "text/plain": [
       "[<matplotlib.lines.Line2D at 0x7fc42fc7cd60>]"
      ]
     },
     "execution_count": 19,
     "metadata": {},
     "output_type": "execute_result"
    },
    {
     "data": {
      "image/png": "[encoded data removed]",
      "text/plain": [
       "<Figure size 432x288 with 1 Axes>"
      ]
     },
     "metadata": {
      "needs_background": "light"
     },
     "output_type": "display_data"
    }
   ],
   "source": [
    "default_prop = []\n",
    "times = []\n",
    "for i in range(int(new_data[\"total_num_of_times_pass_due\"].max())):\n",
    "    temp_ = new_data.loc[new_data[\"total_num_of_times_pass_due\"] == i]\n",
    "    if (len(temp_) != 0):\n",
    "        times.append(i)\n",
    "        default_prop.append(temp_[\"SeriousDlqin2yrs\"].mean())\n",
    "plt.plot(times, default_prop, 'o')"
   ]
  },
  {
   "cell_type": "code",
   "execution_count": 20,
   "id": "d6a2e6ed",
   "metadata": {},
   "outputs": [
    {
     "data": {
      "text/plain": [
       "array([[1.        , 0.24151352],\n",
       "       [0.24151352, 1.        ]])"
      ]
     },
     "execution_count": 20,
     "metadata": {},
     "output_type": "execute_result"
    }
   ],
   "source": [
    "np.corrcoef(times,default_prop)"
   ]
  },
  {
   "cell_type": "markdown",
   "id": "2c441bab",
   "metadata": {},
   "source": [
    "**Interpretation**\n",
    "\n",
    "It is clear that as the number of times pass due, the probability of default increase and the relationship is strong."
   ]
  },
  {
   "cell_type": "markdown",
   "id": "ccfcc67c",
   "metadata": {},
   "source": [
    "### Number Of Dependents"
   ]
  },
  {
   "cell_type": "code",
   "execution_count": 21,
   "id": "f313214b",
   "metadata": {},
   "outputs": [
    {
     "data": {
      "text/plain": [
       "[<matplotlib.lines.Line2D at 0x7fc4302b1bb0>]"
      ]
     },
     "execution_count": 21,
     "metadata": {},
     "output_type": "execute_result"
    },
    {
     "data": {
      "image/png": "[encoded data removed]",
      "text/plain": [
       "<Figure size 432x288 with 1 Axes>"
      ]
     },
     "metadata": {
      "needs_background": "light"
     },
     "output_type": "display_data"
    }
   ],
   "source": [
    "default_prop = []\n",
    "dependents = []\n",
    "for i in range(int(new_data[\"NumberOfDependents\"].max())):\n",
    "    temp_ = new_data.loc[new_data[\"NumberOfDependents\"] == i]\n",
    "    if (len(temp_) != 0):\n",
    "        dependents.append(i)\n",
    "        default_prop.append(temp_[\"SeriousDlqin2yrs\"].mean())\n",
    "plt.plot(dependents, default_prop, 'o')"
   ]
  },
  {
   "cell_type": "code",
   "execution_count": 22,
   "id": "4badddbd",
   "metadata": {},
   "outputs": [
    {
     "data": {
      "text/plain": [
       "array([[ 1.        , -0.54154854],\n",
       "       [-0.54154854,  1.        ]])"
      ]
     },
     "execution_count": 22,
     "metadata": {},
     "output_type": "execute_result"
    }
   ],
   "source": [
    "np.corrcoef(dependents,default_prop)"
   ]
  },
  {
   "cell_type": "markdown",
   "id": "84e554f5",
   "metadata": {},
   "source": [
    "**Interpretation**\n",
    "\n",
    "As the number of dependents increase, the probability of default increases, and when the number of\n",
    "dependents is over 6, it shows a negative relationship."
   ]
  },
  {
   "cell_type": "markdown",
   "id": "d6e957d6",
   "metadata": {},
   "source": [
    "### Number Real Estate Loans Or Lines"
   ]
  },
  {
   "cell_type": "code",
   "execution_count": 23,
   "id": "520f8d61",
   "metadata": {},
   "outputs": [
    {
     "data": {
      "text/plain": [
       "[<matplotlib.lines.Line2D at 0x7fc430683670>]"
      ]
     },
     "execution_count": 23,
     "metadata": {},
     "output_type": "execute_result"
    },
    {
     "data": {
      "image/png": "[encoded data removed]",
      "text/plain": [
       "<Figure size 432x288 with 1 Axes>"
      ]
     },
     "metadata": {
      "needs_background": "light"
     },
     "output_type": "display_data"
    }
   ],
   "source": [
    "default_prop = []\n",
    "loans = []\n",
    "for i in range(int(new_data[\"NumberRealEstateLoansOrLines\"].max())):\n",
    "    temp_ = new_data.loc[new_data[\"NumberRealEstateLoansOrLines\"] == i]\n",
    "    if (len(temp_) != 0):\n",
    "        loans.append(i)\n",
    "        default_prop.append(temp_[\"SeriousDlqin2yrs\"].mean())\n",
    "plt.plot(loans, default_prop, 'o')"
   ]
  },
  {
   "cell_type": "code",
   "execution_count": 24,
   "id": "95f35cf4",
   "metadata": {},
   "outputs": [
    {
     "data": {
      "text/plain": [
       "array([[1.        , 0.54961303],\n",
       "       [0.54961303, 1.        ]])"
      ]
     },
     "execution_count": 24,
     "metadata": {},
     "output_type": "execute_result"
    }
   ],
   "source": [
    "np.corrcoef(loans,default_prop)"
   ]
  },
  {
   "cell_type": "markdown",
   "id": "390a3067",
   "metadata": {},
   "source": [
    "**Interpretatin**:\n",
    "\n",
    "As the number of real estate loans and lines increase, the probability of default increases. The relationship is not strong."
   ]
  },
  {
   "cell_type": "markdown",
   "id": "118d7aa5",
   "metadata": {},
   "source": [
    "### Number Of Open Credit Lines And Loans"
   ]
  },
  {
   "cell_type": "code",
   "execution_count": 25,
   "id": "1d42b3ca",
   "metadata": {},
   "outputs": [
    {
     "data": {
      "text/plain": [
       "[<matplotlib.lines.Line2D at 0x7fc430ae9be0>]"
      ]
     },
     "execution_count": 25,
     "metadata": {},
     "output_type": "execute_result"
    },
    {
     "data": {
      "image/png": "[encoded data removed]",
      "text/plain": [
       "<Figure size 432x288 with 1 Axes>"
      ]
     },
     "metadata": {
      "needs_background": "light"
     },
     "output_type": "display_data"
    }
   ],
   "source": [
    "default_prop = []\n",
    "open_credit = []\n",
    "for i in range(int(new_data[\"NumberOfOpenCreditLinesAndLoans\"].max())):\n",
    "    temp_ = new_data.loc[new_data[\"NumberOfOpenCreditLinesAndLoans\"] == i]\n",
    "    if (len(temp_) != 0):\n",
    "        open_credit.append(i)\n",
    "        default_prop.append(temp_[\"SeriousDlqin2yrs\"].mean())\n",
    "plt.plot(open_credit, default_prop, 'o')"
   ]
  },
  {
   "cell_type": "code",
   "execution_count": 26,
   "id": "cb9d45d4",
   "metadata": {},
   "outputs": [
    {
     "data": {
      "text/plain": [
       "array([[ 1.        , -0.40399162],\n",
       "       [-0.40399162,  1.        ]])"
      ]
     },
     "execution_count": 26,
     "metadata": {},
     "output_type": "execute_result"
    }
   ],
   "source": [
    "np.corrcoef(open_credit,default_prop)"
   ]
  },
  {
   "cell_type": "markdown",
   "id": "df8d0eb4",
   "metadata": {},
   "source": [
    "**Interpretation**\n",
    "\n",
    "As the number of Open Credit Lines And Loans decrease, the probability of default decrease"
   ]
  },
  {
   "attachments": {},
   "cell_type": "markdown",
   "id": "67298ccb",
   "metadata": {},
   "source": [
    "### interaction effects"
   ]
  },
  {
   "cell_type": "code",
   "execution_count": 27,
   "id": "5cdfeaff",
   "metadata": {},
   "outputs": [
    {
     "data": {
      "text/html": [
       "<div>\n",
       "<style scoped>\n",
       "    .dataframe tbody tr th:only-of-type {\n",
       "        vertical-align: middle;\n",
       "    }\n",
       "\n",
       "    .dataframe tbody tr th {\n",
       "        vertical-align: top;\n",
       "    }\n",
       "\n",
       "    .dataframe thead th {\n",
       "        text-align: right;\n",
       "    }\n",
       "</style>\n",
       "<table border=\"1\" class=\"dataframe\">\n",
       "  <thead>\n",
       "    <tr style=\"text-align: right;\">\n",
       "      <th></th>\n",
       "      <th>Unnamed: 0</th>\n",
       "      <th>SeriousDlqin2yrs</th>\n",
       "      <th>RevolvingUtilizationOfUnsecuredLines</th>\n",
       "      <th>age</th>\n",
       "      <th>DebtRatio</th>\n",
       "      <th>MonthlyIncome</th>\n",
       "      <th>NumberOfOpenCreditLinesAndLoans</th>\n",
       "      <th>NumberRealEstateLoansOrLines</th>\n",
       "      <th>NumberOfDependents</th>\n",
       "      <th>total_num_of_times_pass_due</th>\n",
       "    </tr>\n",
       "  </thead>\n",
       "  <tbody>\n",
       "    <tr>\n",
       "      <th>Unnamed: 0</th>\n",
       "      <td>1.000000</td>\n",
       "      <td>0.004618</td>\n",
       "      <td>-0.000848</td>\n",
       "      <td>0.005320</td>\n",
       "      <td>-0.002948</td>\n",
       "      <td>0.000904</td>\n",
       "      <td>0.000701</td>\n",
       "      <td>-0.001723</td>\n",
       "      <td>0.000297</td>\n",
       "      <td>-0.002161</td>\n",
       "    </tr>\n",
       "    <tr>\n",
       "      <th>SeriousDlqin2yrs</th>\n",
       "      <td>0.004618</td>\n",
       "      <td>1.000000</td>\n",
       "      <td>0.010082</td>\n",
       "      <td>-0.103008</td>\n",
       "      <td>-0.011295</td>\n",
       "      <td>-0.056130</td>\n",
       "      <td>-0.031488</td>\n",
       "      <td>-0.007595</td>\n",
       "      <td>0.047457</td>\n",
       "      <td>0.110655</td>\n",
       "    </tr>\n",
       "    <tr>\n",
       "      <th>RevolvingUtilizationOfUnsecuredLines</th>\n",
       "      <td>-0.000848</td>\n",
       "      <td>0.010082</td>\n",
       "      <td>1.000000</td>\n",
       "      <td>-0.014347</td>\n",
       "      <td>0.005388</td>\n",
       "      <td>0.002509</td>\n",
       "      <td>-0.015006</td>\n",
       "      <td>-0.002956</td>\n",
       "      <td>0.000955</td>\n",
       "      <td>0.003539</td>\n",
       "    </tr>\n",
       "    <tr>\n",
       "      <th>age</th>\n",
       "      <td>0.005320</td>\n",
       "      <td>-0.103008</td>\n",
       "      <td>-0.014347</td>\n",
       "      <td>1.000000</td>\n",
       "      <td>-0.018213</td>\n",
       "      <td>0.103658</td>\n",
       "      <td>0.187220</td>\n",
       "      <td>0.066250</td>\n",
       "      <td>-0.204428</td>\n",
       "      <td>-0.047332</td>\n",
       "    </tr>\n",
       "    <tr>\n",
       "      <th>DebtRatio</th>\n",
       "      <td>-0.002948</td>\n",
       "      <td>-0.011295</td>\n",
       "      <td>0.005388</td>\n",
       "      <td>-0.018213</td>\n",
       "      <td>1.000000</td>\n",
       "      <td>-0.107618</td>\n",
       "      <td>-0.016254</td>\n",
       "      <td>-0.020545</td>\n",
       "      <td>0.001512</td>\n",
       "      <td>-0.003535</td>\n",
       "    </tr>\n",
       "    <tr>\n",
       "      <th>MonthlyIncome</th>\n",
       "      <td>0.000904</td>\n",
       "      <td>-0.056130</td>\n",
       "      <td>0.002509</td>\n",
       "      <td>0.103658</td>\n",
       "      <td>-0.107618</td>\n",
       "      <td>1.000000</td>\n",
       "      <td>0.258796</td>\n",
       "      <td>0.349851</td>\n",
       "      <td>0.178707</td>\n",
       "      <td>-0.033823</td>\n",
       "    </tr>\n",
       "    <tr>\n",
       "      <th>NumberOfOpenCreditLinesAndLoans</th>\n",
       "      <td>0.000701</td>\n",
       "      <td>-0.031488</td>\n",
       "      <td>-0.015006</td>\n",
       "      <td>0.187220</td>\n",
       "      <td>-0.016254</td>\n",
       "      <td>0.258796</td>\n",
       "      <td>1.000000</td>\n",
       "      <td>0.430925</td>\n",
       "      <td>0.047340</td>\n",
       "      <td>-0.064403</td>\n",
       "    </tr>\n",
       "    <tr>\n",
       "      <th>NumberRealEstateLoansOrLines</th>\n",
       "      <td>-0.001723</td>\n",
       "      <td>-0.007595</td>\n",
       "      <td>-0.002956</td>\n",
       "      <td>0.066250</td>\n",
       "      <td>-0.020545</td>\n",
       "      <td>0.349851</td>\n",
       "      <td>0.430925</td>\n",
       "      <td>1.000000</td>\n",
       "      <td>0.126261</td>\n",
       "      <td>-0.035223</td>\n",
       "    </tr>\n",
       "    <tr>\n",
       "      <th>NumberOfDependents</th>\n",
       "      <td>0.000297</td>\n",
       "      <td>0.047457</td>\n",
       "      <td>0.000955</td>\n",
       "      <td>-0.204428</td>\n",
       "      <td>0.001512</td>\n",
       "      <td>0.178707</td>\n",
       "      <td>0.047340</td>\n",
       "      <td>0.126261</td>\n",
       "      <td>1.000000</td>\n",
       "      <td>-0.001768</td>\n",
       "    </tr>\n",
       "    <tr>\n",
       "      <th>total_num_of_times_pass_due</th>\n",
       "      <td>-0.002161</td>\n",
       "      <td>0.110655</td>\n",
       "      <td>0.003539</td>\n",
       "      <td>-0.047332</td>\n",
       "      <td>-0.003535</td>\n",
       "      <td>-0.033823</td>\n",
       "      <td>-0.064403</td>\n",
       "      <td>-0.035223</td>\n",
       "      <td>-0.001768</td>\n",
       "      <td>1.000000</td>\n",
       "    </tr>\n",
       "  </tbody>\n",
       "</table>\n",
       "</div>"
      ],
      "text/plain": [
       "                                      Unnamed: 0  SeriousDlqin2yrs  \\\n",
       "Unnamed: 0                              1.000000          0.004618   \n",
       "SeriousDlqin2yrs                        0.004618          1.000000   \n",
       "RevolvingUtilizationOfUnsecuredLines   -0.000848          0.010082   \n",
       "age                                     0.005320         -0.103008   \n",
       "DebtRatio                              -0.002948         -0.011295   \n",
       "MonthlyIncome                           0.000904         -0.056130   \n",
       "NumberOfOpenCreditLinesAndLoans         0.000701         -0.031488   \n",
       "NumberRealEstateLoansOrLines           -0.001723         -0.007595   \n",
       "NumberOfDependents                      0.000297          0.047457   \n",
       "total_num_of_times_pass_due            -0.002161          0.110655   \n",
       "\n",
       "                                      RevolvingUtilizationOfUnsecuredLines  \\\n",
       "Unnamed: 0                                                       -0.000848   \n",
       "SeriousDlqin2yrs                                                  0.010082   \n",
       "RevolvingUtilizationOfUnsecuredLines                              1.000000   \n",
       "age                                                              -0.014347   \n",
       "DebtRatio                                                         0.005388   \n",
       "MonthlyIncome                                                     0.002509   \n",
       "NumberOfOpenCreditLinesAndLoans                                  -0.015006   \n",
       "NumberRealEstateLoansOrLines                                     -0.002956   \n",
       "NumberOfDependents                                                0.000955   \n",
       "total_num_of_times_pass_due                                       0.003539   \n",
       "\n",
       "                                           age  DebtRatio  MonthlyIncome  \\\n",
       "Unnamed: 0                            0.005320  -0.002948       0.000904   \n",
       "SeriousDlqin2yrs                     -0.103008  -0.011295      -0.056130   \n",
       "RevolvingUtilizationOfUnsecuredLines -0.014347   0.005388       0.002509   \n",
       "age                                   1.000000  -0.018213       0.103658   \n",
       "DebtRatio                            -0.018213   1.000000      -0.107618   \n",
       "MonthlyIncome                         0.103658  -0.107618       1.000000   \n",
       "NumberOfOpenCreditLinesAndLoans       0.187220  -0.016254       0.258796   \n",
       "NumberRealEstateLoansOrLines          0.066250  -0.020545       0.349851   \n",
       "NumberOfDependents                   -0.204428   0.001512       0.178707   \n",
       "total_num_of_times_pass_due          -0.047332  -0.003535      -0.033823   \n",
       "\n",
       "                                      NumberOfOpenCreditLinesAndLoans  \\\n",
       "Unnamed: 0                                                   0.000701   \n",
       "SeriousDlqin2yrs                                            -0.031488   \n",
       "RevolvingUtilizationOfUnsecuredLines                        -0.015006   \n",
       "age                                                          0.187220   \n",
       "DebtRatio                                                   -0.016254   \n",
       "MonthlyIncome                                                0.258796   \n",
       "NumberOfOpenCreditLinesAndLoans                              1.000000   \n",
       "NumberRealEstateLoansOrLines                                 0.430925   \n",
       "NumberOfDependents                                           0.047340   \n",
       "total_num_of_times_pass_due                                 -0.064403   \n",
       "\n",
       "                                      NumberRealEstateLoansOrLines  \\\n",
       "Unnamed: 0                                               -0.001723   \n",
       "SeriousDlqin2yrs                                         -0.007595   \n",
       "RevolvingUtilizationOfUnsecuredLines                     -0.002956   \n",
       "age                                                       0.066250   \n",
       "DebtRatio                                                -0.020545   \n",
       "MonthlyIncome                                             0.349851   \n",
       "NumberOfOpenCreditLinesAndLoans                           0.430925   \n",
       "NumberRealEstateLoansOrLines                              1.000000   \n",
       "NumberOfDependents                                        0.126261   \n",
       "total_num_of_times_pass_due                              -0.035223   \n",
       "\n",
       "                                      NumberOfDependents  \\\n",
       "Unnamed: 0                                      0.000297   \n",
       "SeriousDlqin2yrs                                0.047457   \n",
       "RevolvingUtilizationOfUnsecuredLines            0.000955   \n",
       "age                                            -0.204428   \n",
       "DebtRatio                                       0.001512   \n",
       "MonthlyIncome                                   0.178707   \n",
       "NumberOfOpenCreditLinesAndLoans                 0.047340   \n",
       "NumberRealEstateLoansOrLines                    0.126261   \n",
       "NumberOfDependents                              1.000000   \n",
       "total_num_of_times_pass_due                    -0.001768   \n",
       "\n",
       "                                      total_num_of_times_pass_due  \n",
       "Unnamed: 0                                              -0.002161  \n",
       "SeriousDlqin2yrs                                         0.110655  \n",
       "RevolvingUtilizationOfUnsecuredLines                     0.003539  \n",
       "age                                                     -0.047332  \n",
       "DebtRatio                                               -0.003535  \n",
       "MonthlyIncome                                           -0.033823  \n",
       "NumberOfOpenCreditLinesAndLoans                         -0.064403  \n",
       "NumberRealEstateLoansOrLines                            -0.035223  \n",
       "NumberOfDependents                                      -0.001768  \n",
       "total_num_of_times_pass_due                              1.000000  "
      ]
     },
     "execution_count": 27,
     "metadata": {},
     "output_type": "execute_result"
    }
   ],
   "source": [
    "new_data.corr()"
   ]
  },
  {
   "cell_type": "code",
   "execution_count": null,
   "id": "ad002ed9",
   "metadata": {},
   "outputs": [],
   "source": []
  }
 ],
 "metadata": {
  "kernelspec": {
   "display_name": "Python 3 (ipykernel)",
   "language": "python",
   "name": "python3"
  },
  "language_info": {
   "codemirror_mode": {
    "name": "ipython",
    "version": 3
   },
   "file_extension": ".py",
   "mimetype": "text/x-python",
   "name": "python",
   "nbconvert_exporter": "python",
   "pygments_lexer": "ipython3",
   "version": "3.8.3"
  }
 },
 "nbformat": 4,
 "nbformat_minor": 5
}
